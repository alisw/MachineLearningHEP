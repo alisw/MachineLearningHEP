{
 "cells": [
  {
   "cell_type": "raw",
   "metadata": {},
   "source": [
    "https://www.tutorialspoint.com/python_pandas/python_pandas_dataframe.htm\n",
    "\n",
    "************************IMPORTANT ************************: \n",
    "Copy this file https://www.dropbox.com/s/5ad5hg41rk3qcrn/AnalysisResultsRecoLctopK0sMerged.pkl?dl=0\n",
    "in the current directory before starting! "
   ]
  },
  {
   "cell_type": "code",
   "execution_count": 51,
   "metadata": {},
   "outputs": [
    {
     "name": "stdout",
     "output_type": "stream",
     "text": [
      "    run_number   ev_id  cand_type  inv_mass   pt_cand    y_cand  pt_prong0  \\\n",
      "21      289242  133521        449  2.406678  1.551436  0.456459   0.693677   \n",
      "40      289242  135183        449  2.354137  1.874651  0.408690   0.635211   \n",
      "43      289242  135183        320  2.273474  1.975773  0.166537   0.635211   \n",
      "\n",
      "    pt_prong1  pt_prong2  eta_prong0  eta_prong1  eta_prong2  is_ev_rej  \\\n",
      "21   0.731162   0.767119    0.740423    0.725487    0.214030          0   \n",
      "40   1.121744   0.584040    0.198760    0.594537    0.651939          0   \n",
      "43   1.107923   0.584040    0.198760   -0.026909    0.651939          0   \n",
      "\n",
      "    centrality  z_vtx_reco  selS  \n",
      "21        -1.0    2.201821     1  \n",
      "40        -1.0   -0.488150     1  \n",
      "43        -1.0   -0.488150     0  \n"
     ]
    }
   ],
   "source": [
    "import pandas as pd \n",
    "import pickle\n",
    "import matplotlib.pyplot as plt\n",
    "import uproot\n",
    "import numpy as np\n",
    "from machine_learning_hep.selectionutils import selectfidacc\n",
    "from machine_learning_hep.bitwise import filter_bit_df, tag_bit_df\n",
    "\n",
    "var_all = [\"run_number\", \"ev_id\", \"cand_type\", \"inv_mass\", \"pt_cand\",\"y_cand\", \"pt_prong0\",\"pt_prong1\",\"pt_prong2\",\n",
    "           \"eta_prong0\",\"eta_prong1\",\"eta_prong2\"]\n",
    "\n",
    "var_evt = [\"is_ev_rej\", \"run_number\", \"ev_id\", \"centrality\", \"z_vtx_reco\"]\n",
    "\n",
    "treeevtorig = uproot.open(\"/home/ginnocen/1AOD/AnalysisResults.root\")[\"PWGHF_TreeCreator/tree_event_char\"]\n",
    "treeereco = uproot.open(\"/home/ginnocen/1AOD/AnalysisResults.root\")[\"PWGHF_TreeCreator/tree_LctopKpi\"]\n",
    "dfevtorig = treeevtorig.pandas.df(branches=var_evt)\n",
    "dfreco = treeereco.pandas.df(branches=var_all)\n",
    "dfreco = pd.merge(dfreco, dfevtorig, on=[\"run_number\",\"ev_id\"])\n",
    "dfreco = dfreco.query(\"pt_cand>1 & pt_cand<2\")\n",
    "isselacc = selectfidacc(dfreco.pt_cand.values, dfreco.y_cand.values)\n",
    "dfreco = dfreco[np.array(isselacc, dtype=bool)]\n",
    "dfreco[\"selS\"] = np.array(tag_bit_df(dfreco, \"cand_type\", [[0],[]]), dtype=int)\n",
    "#dfreco = dfreco.query(\"selS==1\")\n",
    "dfreco = dfreco.query(\"is_ev_rej==0\")\n",
    "print(dfreco)"
   ]
  },
  {
   "cell_type": "code",
   "execution_count": null,
   "metadata": {},
   "outputs": [],
   "source": []
  }
 ],
 "metadata": {
  "kernelspec": {
   "display_name": "Python 3",
   "language": "python",
   "name": "python3"
  },
  "language_info": {
   "codemirror_mode": {
    "name": "ipython",
    "version": 3
   },
   "file_extension": ".py",
   "mimetype": "text/x-python",
   "name": "python",
   "nbconvert_exporter": "python",
   "pygments_lexer": "ipython3",
   "version": "3.6.7"
  }
 },
 "nbformat": 4,
 "nbformat_minor": 4
}
