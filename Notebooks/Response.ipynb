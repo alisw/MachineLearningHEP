{
 "cells": [
  {
   "cell_type": "code",
   "execution_count": 7,
   "metadata": {},
   "outputs": [],
   "source": [
    "# Build the response matrix for D0s in jets\n",
    "\n",
    "from root_numpy import fill_hist\n",
    "import uproot\n",
    "import pandas as pd\n",
    "import pickle\n",
    "import matplotlib.pyplot as plt\n",
    "from matplotlib import colors\n",
    "import ROOT"
   ]
  },
  {
   "cell_type": "markdown",
   "metadata": {},
   "source": [
    "Binning setting"
   ]
  },
  {
   "cell_type": "code",
   "execution_count": 64,
   "metadata": {},
   "outputs": [],
   "source": [
    "Nbins_ptJet = 100\n",
    "range_ptJet = [0, 100]\n",
    "Nbins_ptD = 40\n",
    "range_ptD = [0, 40]\n",
    "Nbins_z = 20\n",
    "range_z = [0, 1]"
   ]
  },
  {
   "cell_type": "markdown",
   "metadata": {},
   "source": [
    "Select which branches will be read from the tree."
   ]
  },
  {
   "cell_type": "code",
   "execution_count": 27,
   "metadata": {},
   "outputs": [],
   "source": [
    "var_all = [\"cand_type\", \"inv_mass\", \"pt_cand\", \"pt_gen_cand\", \"pt_jet\", \"pt_gen_jet\", \"eta_jet\"]\n",
    "treereco = uproot.open(\"/home/vkucera/HFjets/data/AnalysisResults_D0Jet_MC.root\")[\"PWGHF_TreeCreator/tree_D0\"]\n",
    "dfreco = treereco.pandas.df(branches = var_all)"
   ]
  },
  {
   "cell_type": "code",
   "execution_count": 4,
   "metadata": {},
   "outputs": [
    {
     "data": {
      "text/plain": [
       "[b'run_number',\n",
       " b'ev_id',\n",
       " b'cand_type',\n",
       " b'inv_mass',\n",
       " b'pt_cand',\n",
       " b'pt_gen_cand',\n",
       " b'y_cand',\n",
       " b'eta_cand',\n",
       " b'phi_cand',\n",
       " b'd_len',\n",
       " b'd_len_xy',\n",
       " b'norm_dl_xy',\n",
       " b'cos_p',\n",
       " b'cos_p_xy',\n",
       " b'imp_par_xy',\n",
       " b'dca',\n",
       " b'cos_t_star',\n",
       " b'imp_par_prod',\n",
       " b'max_norm_d0d0exp',\n",
       " b'norm_dl',\n",
       " b'imp_par_prong0',\n",
       " b'imp_par_err_prong0',\n",
       " b'imp_par_prong1',\n",
       " b'imp_par_err_prong1',\n",
       " b'pt_prong0',\n",
       " b'eta_prong0',\n",
       " b'phi_prong0',\n",
       " b'p_prong0',\n",
       " b'pt_prong1',\n",
       " b'eta_prong1',\n",
       " b'phi_prong1',\n",
       " b'p_prong1',\n",
       " b'pt_jet',\n",
       " b'pt_gen_jet',\n",
       " b'eta_jet',\n",
       " b'eta_gen_jet',\n",
       " b'phi_jet',\n",
       " b'phi_gen_jet',\n",
       " b'delta_eta_jet',\n",
       " b'delta_eta_gen_jet',\n",
       " b'delta_phi_jet',\n",
       " b'delta_phi_gen_jet',\n",
       " b'delta_r_jet',\n",
       " b'delta_r_gen_jet',\n",
       " b'ntracks_jet',\n",
       " b'ntracks_gen_jet',\n",
       " b'zg_jet',\n",
       " b'zg_gen_jet',\n",
       " b'rg_jet',\n",
       " b'rg_gen_jet',\n",
       " b'nsigTPC_Pi_0',\n",
       " b'nsigTPC_K_0',\n",
       " b'nsigTOF_Pi_0',\n",
       " b'nsigTOF_K_0',\n",
       " b'dEdxTPC_0',\n",
       " b'ToF_0',\n",
       " b'pTPC_prong0',\n",
       " b'pTOF_prong0',\n",
       " b'trlen_prong0',\n",
       " b'start_time_res_prong0',\n",
       " b'nsigTPC_Pi_1',\n",
       " b'nsigTPC_K_1',\n",
       " b'nsigTOF_Pi_1',\n",
       " b'nsigTOF_K_1',\n",
       " b'dEdxTPC_1',\n",
       " b'ToF_1',\n",
       " b'pTPC_prong1',\n",
       " b'pTOF_prong1',\n",
       " b'trlen_prong1',\n",
       " b'start_time_res_prong1']"
      ]
     },
     "execution_count": 4,
     "metadata": {},
     "output_type": "execute_result"
    }
   ],
   "source": [
    "treereco.keys()"
   ]
  },
  {
   "cell_type": "code",
   "execution_count": 5,
   "metadata": {},
   "outputs": [
    {
     "data": {
      "text/plain": [
       "42685"
      ]
     },
     "execution_count": 5,
     "metadata": {},
     "output_type": "execute_result"
    }
   ],
   "source": [
    "treereco.numentries"
   ]
  },
  {
   "cell_type": "code",
   "execution_count": 30,
   "metadata": {},
   "outputs": [
    {
     "name": "stdout",
     "output_type": "stream",
     "text": [
      "number of entries =  42685.0\n"
     ]
    },
    {
     "data": {
      "text/plain": [
       "Text(0.5, 0, 'inv_mass')"
      ]
     },
     "execution_count": 30,
     "metadata": {},
     "output_type": "execute_result"
    },
    {
     "name": "stderr",
     "output_type": "stream",
     "text": [
      "Warning in <TROOT::Append>: Replacing existing TH1: hinvmass (Potential memory leak).\n"
     ]
    },
    {
     "data": {
      "image/png": "[encoded data removed]",
      "text/plain": [
       "<Figure size 432x288 with 1 Axes>"
      ]
     },
     "metadata": {
      "needs_background": "light"
     },
     "output_type": "display_data"
    }
   ],
   "source": [
    "hinvmass = ROOT.TH1D(\"hinvmass\", \"hinvmass\", 100, 1.5, 2.0)\n",
    "fill_hist(hinvmass, dfreco[\"inv_mass\"])\n",
    "print(\"number of entries = \", hinvmass.GetEntries())\n",
    "plt.hist(dfreco[\"inv_mass\"])\n",
    "plt.xlabel(\"inv_mass\")"
   ]
  },
  {
   "cell_type": "code",
   "execution_count": 35,
   "metadata": {},
   "outputs": [
    {
     "data": {
      "text/plain": [
       "Text(0.5, 1.0, 'generated pT of D')"
      ]
     },
     "execution_count": 35,
     "metadata": {},
     "output_type": "execute_result"
    },
    {
     "data": {
      "image/png": "[encoded data removed]",
      "text/plain": [
       "<Figure size 432x288 with 1 Axes>"
      ]
     },
     "metadata": {
      "needs_background": "light"
     },
     "output_type": "display_data"
    }
   ],
   "source": [
    "plt.hist(dfreco[\"pt_gen_cand\"], bins = 25, range = [-100, 25])\n",
    "plt.yscale('log')\n",
    "plt.xlabel(\"pt_gen_cand\")\n",
    "plt.title(\"generated pT of D\")"
   ]
  },
  {
   "cell_type": "markdown",
   "metadata": {},
   "source": [
    "D0 candidates not matched to gen level are stored with pt_gen_cand = -99."
   ]
  },
  {
   "cell_type": "code",
   "execution_count": 65,
   "metadata": {},
   "outputs": [
    {
     "data": {
      "text/plain": [
       "Text(0.5, 1.0, 'reconstructed pt of D')"
      ]
     },
     "execution_count": 65,
     "metadata": {},
     "output_type": "execute_result"
    },
    {
     "data": {
      "image/png": "[encoded data removed]",
      "text/plain": [
       "<Figure size 432x288 with 1 Axes>"
      ]
     },
     "metadata": {
      "needs_background": "light"
     },
     "output_type": "display_data"
    }
   ],
   "source": [
    "plt.hist(dfreco[\"pt_cand\"], bins = Nbins_ptD, range = range_ptD)\n",
    "plt.yscale('log')\n",
    "plt.xlabel(\"pt_cand\")\n",
    "plt.title(\"reconstructed pt of D\")"
   ]
  },
  {
   "cell_type": "markdown",
   "metadata": {},
   "source": [
    "Define selection cuts."
   ]
  },
  {
   "cell_type": "code",
   "execution_count": 56,
   "metadata": {},
   "outputs": [],
   "source": [
    "is_matched = dfreco[\"pt_gen_cand\"] >= 0 # Unmatched D candidates have pt_gen_cand = -99.\n",
    "cut_ptDMin = dfreco[\"pt_cand\"] > 2\n",
    "cut_ptJetMin = dfreco[\"pt_jet\"] > 5\n",
    "cut_etaJet = abs(dfreco[\"eta_jet\"]) < 0.5 # |eta| < 0.9 - R"
   ]
  },
  {
   "cell_type": "markdown",
   "metadata": {},
   "source": [
    "Apply cuts and get a data frame with only matched (associated) D0s."
   ]
  },
  {
   "cell_type": "code",
   "execution_count": null,
   "metadata": {},
   "outputs": [],
   "source": [
    "dfreco_assoc = dfreco[is_matched & cut_ptDMin & cut_ptJetMin & cut_etaJet]"
   ]
  },
  {
   "cell_type": "code",
   "execution_count": 54,
   "metadata": {},
   "outputs": [
    {
     "data": {
      "text/plain": [
       "Text(0.5, 1.0, 'reconstructed pt of filtered D')"
      ]
     },
     "execution_count": 54,
     "metadata": {},
     "output_type": "execute_result"
    },
    {
     "data": {
      "image/png": "[encoded data removed]",
      "text/plain": [
       "<Figure size 432x288 with 1 Axes>"
      ]
     },
     "metadata": {
      "needs_background": "light"
     },
     "output_type": "display_data"
    }
   ],
   "source": [
    "plt.hist(dfreco_assoc[\"pt_cand\"], bins = Nbins_ptD, range = range_ptD)\n",
    "plt.yscale('log')\n",
    "plt.xlabel(\"pt_cand\")\n",
    "plt.title(\"reconstructed pt of filtered D\")"
   ]
  },
  {
   "cell_type": "code",
   "execution_count": 41,
   "metadata": {},
   "outputs": [
    {
     "data": {
      "text/plain": [
       "Text(0.5, 1.0, 'reconstructed pt of not matched D')"
      ]
     },
     "execution_count": 41,
     "metadata": {},
     "output_type": "execute_result"
    },
    {
     "data": {
      "image/png": "[encoded data removed]",
      "text/plain": [
       "<Figure size 432x288 with 1 Axes>"
      ]
     },
     "metadata": {
      "needs_background": "light"
     },
     "output_type": "display_data"
    }
   ],
   "source": [
    "dfreco_nonassoc = dfreco[dfreco[\"pt_gen_cand\"]<0]\n",
    "plt.hist(dfreco_nonassoc[\"pt_cand\"], bins = Nbins_ptD, range = range_ptD)\n",
    "plt.yscale('log')\n",
    "plt.xlabel(\"pt_cand\")\n",
    "plt.title(\"reconstructed pt of not matched D\")"
   ]
  },
  {
   "cell_type": "code",
   "execution_count": 66,
   "metadata": {},
   "outputs": [
    {
     "data": {
      "text/plain": [
       "Text(0.5, 1.0, 'Jet pt of filtered D jets')"
      ]
     },
     "execution_count": 66,
     "metadata": {},
     "output_type": "execute_result"
    },
    {
     "data": {
      "image/png": "[encoded data removed]",
      "text/plain": [
       "<Figure size 432x288 with 1 Axes>"
      ]
     },
     "metadata": {
      "needs_background": "light"
     },
     "output_type": "display_data"
    }
   ],
   "source": [
    "plt.hist(dfreco_assoc[\"pt_jet\"], bins = Nbins_ptJet, range = range_ptJet)\n",
    "plt.yscale('log')\n",
    "plt.xlabel(\"jet pt\")\n",
    "plt.title(\"Jet pt of filtered D jets\")"
   ]
  },
  {
   "cell_type": "code",
   "execution_count": 68,
   "metadata": {},
   "outputs": [
    {
     "data": {
      "text/plain": [
       "Text(0.5, 1.0, 'Response matrix for pt of D')"
      ]
     },
     "execution_count": 68,
     "metadata": {},
     "output_type": "execute_result"
    },
    {
     "data": {
      "image/png": "[encoded data removed]",
      "text/plain": [
       "<Figure size 432x288 with 1 Axes>"
      ]
     },
     "metadata": {
      "needs_background": "light"
     },
     "output_type": "display_data"
    }
   ],
   "source": [
    "plt.hist2d(dfreco_assoc[\"pt_cand\"], dfreco_assoc[\"pt_gen_cand\"], norm = colors.LogNorm(), bins = [Nbins_ptD, Nbins_ptD], range = [range_ptD, range_ptD])\n",
    "plt.xlabel(\"rec. pt D\")\n",
    "plt.ylabel(\"gen. pt D\")\n",
    "plt.title(\"Response matrix for pt of D\")"
   ]
  },
  {
   "cell_type": "code",
   "execution_count": 70,
   "metadata": {},
   "outputs": [
    {
     "data": {
      "text/plain": [
       "Text(0.5, 1.0, 'Response matrix for jet pt')"
      ]
     },
     "execution_count": 70,
     "metadata": {},
     "output_type": "execute_result"
    },
    {
     "data": {
      "image/png": "[encoded data removed]",
      "text/plain": [
       "<Figure size 432x288 with 1 Axes>"
      ]
     },
     "metadata": {
      "needs_background": "light"
     },
     "output_type": "display_data"
    }
   ],
   "source": [
    "plt.hist2d(dfreco_assoc[\"pt_jet\"], dfreco_assoc[\"pt_gen_jet\"], norm = colors.LogNorm(), bins = [Nbins_ptJet, Nbins_ptJet], range = [range_ptJet, range_ptJet])\n",
    "plt.xlabel(\"rec. pt jet\")\n",
    "plt.ylabel(\"gen. pt jet\")\n",
    "plt.title(\"Response matrix for jet pt\")"
   ]
  },
  {
   "cell_type": "code",
   "execution_count": 72,
   "metadata": {},
   "outputs": [],
   "source": [
    "hisRespJet = ROOT.TH2D(\"hisRespJet\", \\\n",
    "                       \"Response matrix for #it{p}_{T}^{jet, ch};#it{p}_{T}^{jet, ch, rec.};#it{p}_{T}^{jet, ch, gen.}\", \\\n",
    "                       Nbins_ptJet, range_ptJet[0], range_ptJet[1], Nbins_ptJet, range_ptJet[0], range_ptJet[1])\n",
    "# create an empty ROOT histogram for the response matrix\n",
    "dfRespJet = dfreco_assoc.loc[:, [\"pt_jet\", \"pt_gen_jet\"]] # create a data frame with only selected columns\n",
    "fill_hist(hisRespJet, dfRespJet) # fill the histogram with the data frame entries\n",
    "hisRespJet.SetDirectory(0) # needed to avoid changing the histogram type to PyROOT_NoneType\n",
    "fileRootOut = ROOT.TFile(\"histos.root\", \"recreate\")\n",
    "fileRootOut.cd()\n",
    "hisRespJet.Write()\n",
    "fileRootOut.Close()"
   ]
  },
  {
   "cell_type": "code",
   "execution_count": 73,
   "metadata": {},
   "outputs": [
    {
     "data": {
      "text/plain": [
       "Text(0, 0.5, 'gen. z')"
      ]
     },
     "execution_count": 73,
     "metadata": {},
     "output_type": "execute_result"
    },
    {
     "data": {
      "image/png": "[encoded data removed]",
      "text/plain": [
       "<Figure size 432x288 with 1 Axes>"
      ]
     },
     "metadata": {
      "needs_background": "light"
     },
     "output_type": "display_data"
    }
   ],
   "source": [
    "dfreco_assoc.loc[:, \"zL\"] = dfreco_assoc[\"pt_cand\"] / dfreco_assoc[\"pt_jet\"] # If you type just dfreco_assoc[\"zL\"], it will raise SettingWithCopyWarning.\n",
    "dfreco_assoc.loc[:, \"zL_gen\"] = dfreco_assoc[\"pt_gen_cand\"] / dfreco_assoc[\"pt_gen_jet\"]\n",
    "dfRespZ = dfreco_assoc.loc[:, [\"zL\", \"zL_gen\"]]\n",
    "plt.hist2d(dfRespZ[\"zL\"], dfRespZ[\"zL_gen\"], norm = colors.LogNorm(), bins = [Nbins_z, Nbins_z], range = [range_z, range_z])\n",
    "plt.title(\"Response matrix for z\")\n",
    "plt.xlabel(\"rec. z\")\n",
    "plt.ylabel(\"gen. z\")"
   ]
  },
  {
   "cell_type": "code",
   "execution_count": 74,
   "metadata": {},
   "outputs": [],
   "source": [
    "binsPtJetMin = [5, 10, 20, 40] # list of minimum jet pt values\n",
    "listRespZ = [dfRespZ[dfreco_assoc[\"pt_jet\"] > jetpt] for jetpt in binsPtJetMin] # get a list of data frames for jet pt higher than a given threshold from the list\n",
    "fileRootOut = ROOT.TFile(\"histos.root\", \"update\")\n",
    "for i in range(0, len(binsPtJetMin)):\n",
    "    hisRespZ = ROOT.TH2D(\"hisRespZ_ptjet{}\".format(binsPtJetMin[i]), \\\n",
    "                         \"Response matrix for #it{{z}}^{{ch}}, #it{{p}}_{{T}}^{{jet, ch, rec.}} > {} GeV/#it{{c}};#it{{z}}^{{ch, rec.}};#it{{z}}^{{ch, gen.}}\".format(binsPtJetMin[i]), \\\n",
    "                         Nbins_z, range_z[0], range_z[1], Nbins_z, range_z[0], range_z[1])\n",
    "    fill_hist(hisRespZ, listRespZ[i])\n",
    "    hisRespZ.SetDirectory(0)\n",
    "    fileRootOut.cd()\n",
    "    hisRespZ.Write()\n",
    "fileRootOut.Close()"
   ]
  },
  {
   "cell_type": "code",
   "execution_count": null,
   "metadata": {},
   "outputs": [],
   "source": []
  }
 ],
 "metadata": {
  "kernelspec": {
   "display_name": "Python 3",
   "language": "python",
   "name": "python3"
  },
  "language_info": {
   "codemirror_mode": {
    "name": "ipython",
    "version": 3
   },
   "file_extension": ".py",
   "mimetype": "text/x-python",
   "name": "python",
   "nbconvert_exporter": "python",
   "pygments_lexer": "ipython3",
   "version": "3.6.7"
  }
 },
 "nbformat": 4,
 "nbformat_minor": 4
}
