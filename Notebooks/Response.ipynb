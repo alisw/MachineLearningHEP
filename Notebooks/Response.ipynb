{
 "cells": [
  {
   "cell_type": "code",
   "execution_count": 1,
   "metadata": {},
   "outputs": [
    {
     "name": "stdout",
     "output_type": "stream",
     "text": [
      "Welcome to JupyROOT 6.14/06\n"
     ]
    }
   ],
   "source": [
    "# Build the response matrix for D0s in jets\n",
    "\n",
    "from root_numpy import fill_hist\n",
    "import uproot\n",
    "import pandas as pd\n",
    "import pickle\n",
    "import lz4.frame\n",
    "import matplotlib.pyplot as plt\n",
    "from matplotlib import colors\n",
    "import ROOT"
   ]
  },
  {
   "cell_type": "markdown",
   "metadata": {},
   "source": [
    "Binning settings"
   ]
  },
  {
   "cell_type": "code",
   "execution_count": 2,
   "metadata": {},
   "outputs": [],
   "source": [
    "Nbins_ptJet = 100\n",
    "range_ptJet = [0, 100]\n",
    "Nbins_ptD = 40\n",
    "range_ptD = [0, 40]\n",
    "Nbins_z = 20\n",
    "range_z = [0, 1]"
   ]
  },
  {
   "cell_type": "markdown",
   "metadata": {},
   "source": [
    "Select which branches will be read from the tree."
   ]
  },
  {
   "cell_type": "code",
   "execution_count": 3,
   "metadata": {},
   "outputs": [],
   "source": [
    "# ROOT file input\n",
    "path_data_tree = \"/data/TTree/D0DsLckINT7HighMultwithJets/vAN-20190810_ROOT6-1/pp_2018_mc_prodD2H/135_20190811-0107/merged/child_1/pack_{}/AnalysisResults.root\"\n",
    "path_tree = \"PWGHF_TreeCreator/tree_D0\"\n",
    "npacks = 25\n",
    "var_all = [\"cand_type\", \"inv_mass\", \"pt_cand\", \"pt_gen_cand\", \"pt_jet\", \"pt_gen_jet\", \"eta_jet\"]\n",
    "listPaths_tree = [path_data_tree.format(i) for i in range(npacks)]\n",
    "listTrees = [uproot.open(path_file)[path_tree] for path_file in listPaths_tree]\n",
    "listDf_tree = [tree.pandas.df(branches = var_all) for tree in listTrees]\n",
    "dfreco_tree = pd.concat(listDf_tree)\n",
    "#treereco = uproot.open(\"/home/vkucera/HFjets/data/AnalysisResults_D0Jet_MC.root\")[\"PWGHF_TreeCreator/tree_D0\"]\n",
    "#treereco = uproot.open(\"/data/TTree/D0DsLckINT7HighMultwithJets/vAN-20190810_ROOT6-1/pp_2018_mc_prodD2H/135_20190811-0107/merged/child_1/pack_0/AnalysisResults.root\")[\"PWGHF_TreeCreator/tree_D0\"]\n",
    "#dfreco = treereco.pandas.df(branches = var_all)"
   ]
  },
  {
   "cell_type": "code",
   "execution_count": 4,
   "metadata": {},
   "outputs": [],
   "source": [
    "# Pickle file input\n",
    "path_data = \"/data/Derived/D0kINT7HighMultwithJets/vAN-20190810_ROOT6-1/pp_2018_mc_prodD2H/135_20190811-0107/pkl/child_1/pack_{}/AnalysisResultsReco.pkl.lz4\"\n",
    "npacks = 10\n",
    "listPaths = [path_data.format(i) for i in range(npacks)]\n",
    "listDf = [pickle.load(lz4.frame.open(path_file, \"rb\")) for path_file in listPaths]\n",
    "#dfreco = pickle.load(lz4.frame.open(\"/data/Derived/D0kINT7HighMultwithJets/vAN-20190810_ROOT6-1/pp_2018_mc_prodD2H/135_20190811-0107/pkl/child_1/pack_0/AnalysisResultsReco.pkl.lz4\", \"rb\"))\n",
    "dfreco = pd.concat(listDf)"
   ]
  },
  {
   "cell_type": "code",
   "execution_count": 5,
   "metadata": {},
   "outputs": [],
   "source": [
    "#treereco.keys()"
   ]
  },
  {
   "cell_type": "code",
   "execution_count": 6,
   "metadata": {},
   "outputs": [
    {
     "data": {
      "text/plain": [
       "Index(['d_len', 'd_len_xy', 'norm_dl', 'norm_dl_xy', 'cos_p', 'cos_p_xy',\n",
       "       'imp_par_xy', 'dca', 'cos_t_star', 'imp_par_prod', 'pt_prong0',\n",
       "       'pt_prong1', 'imp_par_prong0', 'imp_par_prong1', 'imp_par_err_prong0',\n",
       "       'imp_par_err_prong1', 'max_norm_d0d0exp', 'inv_mass', 'pt_cand',\n",
       "       'phi_cand', 'eta_cand', 'cand_type', 'y_cand', 'eta_prong0',\n",
       "       'eta_prong1', 'run_number', 'ev_id', 'nsigTPC_Pi_0', 'nsigTPC_K_0',\n",
       "       'nsigTOF_Pi_0', 'nsigTOF_K_0', 'nsigTPC_Pi_1', 'nsigTPC_K_1',\n",
       "       'nsigTOF_Pi_1', 'nsigTOF_K_1', 'pt_jet', 'eta_jet', 'phi_jet',\n",
       "       'delta_eta_jet', 'delta_phi_jet', 'delta_r_jet', 'pt_gen_jet',\n",
       "       'eta_gen_jet', 'phi_gen_jet', 'delta_eta_gen_jet', 'delta_phi_gen_jet',\n",
       "       'delta_r_gen_jet', 'pt_gen_cand', 'z_vtx_gen', 'centrality',\n",
       "       'z_vtx_reco', 'n_vtx_contributors', 'n_tracks', 'is_ev_rej',\n",
       "       'n_tracklets', 'V0Amult', 'trigger_hasbit_INT7',\n",
       "       'trigger_hasbit_HighMultSPD', 'trigger_hasbit_HighMultV0',\n",
       "       'trigger_hasclass_INT7', 'trigger_hasclass_HighMultSPD',\n",
       "       'trigger_hasclass_HighMultV0', 'n_tracklets_corr', 'v0m', 'v0m_eq',\n",
       "       'v0m_corr', 'v0m_eq_corr', 'mult_gen', 'mult_gen_v0a', 'mult_gen_v0c',\n",
       "       'isstd', 'ismcsignal', 'ismcprompt', 'ismcfd', 'ismcbkg'],\n",
       "      dtype='object')"
      ]
     },
     "execution_count": 6,
     "metadata": {},
     "output_type": "execute_result"
    }
   ],
   "source": [
    "dfreco.columns"
   ]
  },
  {
   "cell_type": "code",
   "execution_count": 7,
   "metadata": {},
   "outputs": [],
   "source": [
    "#treereco.numentries"
   ]
  },
  {
   "cell_type": "code",
   "execution_count": 8,
   "metadata": {},
   "outputs": [
    {
     "name": "stdout",
     "output_type": "stream",
     "text": [
      "2417579 1332398\n"
     ]
    }
   ],
   "source": [
    "df_fd = dfreco.loc[(dfreco[\"ismcfd\"] == 1) & (dfreco[\"ismcsignal\"] == 1), [\"pt_jet\", \"pt_gen_jet\"]] # feed-down signal\n",
    "print(len(dfreco), len(df_fd))"
   ]
  },
  {
   "cell_type": "code",
   "execution_count": 9,
   "metadata": {},
   "outputs": [
    {
     "name": "stdout",
     "output_type": "stream",
     "text": [
      "number of entries =  2417579.0\n"
     ]
    },
    {
     "data": {
      "text/plain": [
       "Text(0.5, 0, 'inv_mass')"
      ]
     },
     "execution_count": 9,
     "metadata": {},
     "output_type": "execute_result"
    },
    {
     "data": {
      "image/png": "[encoded data removed]",
      "text/plain": [
       "<Figure size 432x288 with 1 Axes>"
      ]
     },
     "metadata": {
      "needs_background": "light"
     },
     "output_type": "display_data"
    }
   ],
   "source": [
    "hinvmass = ROOT.TH1D(\"hinvmass\", \"hinvmass\", 100, 1.5, 2.0)\n",
    "fill_hist(hinvmass, dfreco[\"inv_mass\"])\n",
    "print(\"number of entries = \", hinvmass.GetEntries())\n",
    "plt.hist(dfreco[\"inv_mass\"], bins = 100, range = [1.8, 1.95])\n",
    "plt.xlabel(\"inv_mass\")"
   ]
  },
  {
   "cell_type": "code",
   "execution_count": 10,
   "metadata": {},
   "outputs": [
    {
     "data": {
      "text/plain": [
       "Text(0.5, 1.0, 'generated pT of D')"
      ]
     },
     "execution_count": 10,
     "metadata": {},
     "output_type": "execute_result"
    },
    {
     "data": {
      "image/png": "[encoded data removed]",
      "text/plain": [
       "<Figure size 432x288 with 1 Axes>"
      ]
     },
     "metadata": {
      "needs_background": "light"
     },
     "output_type": "display_data"
    }
   ],
   "source": [
    "plt.hist(dfreco[\"pt_gen_cand\"], bins = 25, range = [-100, 25])\n",
    "plt.yscale('log')\n",
    "plt.xlabel(\"pt_gen_cand\")\n",
    "plt.title(\"generated pT of D\")"
   ]
  },
  {
   "cell_type": "markdown",
   "metadata": {},
   "source": [
    "D0 candidates not matched to gen level are stored with pt_gen_cand = -99."
   ]
  },
  {
   "cell_type": "code",
   "execution_count": 11,
   "metadata": {},
   "outputs": [
    {
     "data": {
      "text/plain": [
       "Text(0.5, 1.0, 'reconstructed pt of D')"
      ]
     },
     "execution_count": 11,
     "metadata": {},
     "output_type": "execute_result"
    },
    {
     "data": {
      "image/png": "[encoded data removed]",
      "text/plain": [
       "<Figure size 432x288 with 1 Axes>"
      ]
     },
     "metadata": {
      "needs_background": "light"
     },
     "output_type": "display_data"
    }
   ],
   "source": [
    "plt.hist(dfreco[\"pt_cand\"], bins = Nbins_ptD, range = range_ptD)\n",
    "plt.yscale('log')\n",
    "plt.xlabel(\"pt_cand\")\n",
    "plt.title(\"reconstructed pt of D\")"
   ]
  },
  {
   "cell_type": "markdown",
   "metadata": {},
   "source": [
    "Define selection cuts."
   ]
  },
  {
   "cell_type": "code",
   "execution_count": 12,
   "metadata": {},
   "outputs": [],
   "source": [
    "is_matched = dfreco[\"pt_gen_cand\"] > 0 # Unmatched D candidates have pt_gen_cand = -99.\n",
    "cut_ptDMin = dfreco[\"pt_cand\"] > 2\n",
    "cut_ptJetMin = dfreco[\"pt_jet\"] > 5\n",
    "cut_etaJet = abs(dfreco[\"eta_jet\"]) < 0.5 # |eta| < 0.9 - R"
   ]
  },
  {
   "cell_type": "markdown",
   "metadata": {},
   "source": [
    "Apply cuts and get a data frame with only matched (associated) D0s."
   ]
  },
  {
   "cell_type": "code",
   "execution_count": 13,
   "metadata": {},
   "outputs": [],
   "source": [
    "dfreco_assoc = dfreco[is_matched & cut_ptDMin & cut_ptJetMin & cut_etaJet]"
   ]
  },
  {
   "cell_type": "code",
   "execution_count": 14,
   "metadata": {},
   "outputs": [
    {
     "data": {
      "text/plain": [
       "Text(0.5, 1.0, 'reconstructed pt of filtered D')"
      ]
     },
     "execution_count": 14,
     "metadata": {},
     "output_type": "execute_result"
    },
    {
     "data": {
      "image/png": "[encoded data removed]",
      "text/plain": [
       "<Figure size 432x288 with 1 Axes>"
      ]
     },
     "metadata": {
      "needs_background": "light"
     },
     "output_type": "display_data"
    }
   ],
   "source": [
    "plt.hist(dfreco_assoc[\"pt_cand\"], bins = Nbins_ptD, range = range_ptD)\n",
    "plt.yscale('log')\n",
    "plt.xlabel(\"pt_cand\")\n",
    "plt.title(\"reconstructed pt of filtered D\")"
   ]
  },
  {
   "cell_type": "code",
   "execution_count": 15,
   "metadata": {},
   "outputs": [
    {
     "name": "stdout",
     "output_type": "stream",
     "text": [
      "There are no unmatched D0s.\n"
     ]
    }
   ],
   "source": [
    "dfreco_nonassoc = dfreco[dfreco[\"pt_gen_cand\"] < 0]\n",
    "if len(dfreco_nonassoc) > 0:\n",
    "    plt.hist(dfreco_nonassoc[\"pt_cand\"], bins = Nbins_ptD, range = range_ptD)\n",
    "    plt.yscale('log')\n",
    "    plt.xlabel(\"pt_cand\")\n",
    "    plt.title(\"reconstructed pt of unmatched D0s\")\n",
    "else:\n",
    "    print(\"There are no unmatched D0s.\")"
   ]
  },
  {
   "cell_type": "code",
   "execution_count": 16,
   "metadata": {},
   "outputs": [
    {
     "data": {
      "text/plain": [
       "Text(0.5, 1.0, 'Jet pt of filtered D jets')"
      ]
     },
     "execution_count": 16,
     "metadata": {},
     "output_type": "execute_result"
    },
    {
     "data": {
      "image/png": "[encoded data removed]",
      "text/plain": [
       "<Figure size 432x288 with 1 Axes>"
      ]
     },
     "metadata": {
      "needs_background": "light"
     },
     "output_type": "display_data"
    }
   ],
   "source": [
    "plt.hist(dfreco_assoc[\"pt_jet\"], bins = Nbins_ptJet, range = range_ptJet)\n",
    "plt.yscale('log')\n",
    "plt.xlabel(\"jet pt\")\n",
    "plt.title(\"Jet pt of filtered D jets\")"
   ]
  },
  {
   "cell_type": "code",
   "execution_count": 17,
   "metadata": {},
   "outputs": [
    {
     "data": {
      "text/plain": [
       "Text(0.5, 1.0, 'Response matrix for pt of D')"
      ]
     },
     "execution_count": 17,
     "metadata": {},
     "output_type": "execute_result"
    },
    {
     "data": {
      "image/png": "[encoded data removed]",
      "text/plain": [
       "<Figure size 432x288 with 1 Axes>"
      ]
     },
     "metadata": {
      "needs_background": "light"
     },
     "output_type": "display_data"
    }
   ],
   "source": [
    "plt.hist2d(dfreco_assoc[\"pt_cand\"], dfreco_assoc[\"pt_gen_cand\"], norm = colors.LogNorm(), bins = [Nbins_ptD, Nbins_ptD], range = [range_ptD, range_ptD])\n",
    "plt.xlabel(\"rec. pt D\")\n",
    "plt.ylabel(\"gen. pt D\")\n",
    "plt.title(\"Response matrix for pt of D\")"
   ]
  },
  {
   "cell_type": "code",
   "execution_count": 18,
   "metadata": {},
   "outputs": [
    {
     "data": {
      "text/plain": [
       "Text(0.5, 1.0, 'Response matrix for jet pt')"
      ]
     },
     "execution_count": 18,
     "metadata": {},
     "output_type": "execute_result"
    },
    {
     "data": {
      "image/png": "[encoded data removed]",
      "text/plain": [
       "<Figure size 432x288 with 1 Axes>"
      ]
     },
     "metadata": {
      "needs_background": "light"
     },
     "output_type": "display_data"
    }
   ],
   "source": [
    "plt.hist2d(dfreco_assoc[\"pt_jet\"], dfreco_assoc[\"pt_gen_jet\"], norm = colors.LogNorm(), bins = [Nbins_ptJet, Nbins_ptJet], range = [range_ptJet, range_ptJet])\n",
    "plt.xlabel(\"rec. pt jet\")\n",
    "plt.ylabel(\"gen. pt jet\")\n",
    "plt.title(\"Response matrix for jet pt\")"
   ]
  },
  {
   "cell_type": "code",
   "execution_count": 19,
   "metadata": {},
   "outputs": [],
   "source": [
    "hisRespJet = ROOT.TH2D(\"hisRespJet\", \\\n",
    "                       \"Response matrix for #it{p}_{T}^{jet, ch};#it{p}_{T}^{jet, ch, rec.};#it{p}_{T}^{jet, ch, gen.}\", \\\n",
    "                       Nbins_ptJet, range_ptJet[0], range_ptJet[1], Nbins_ptJet, range_ptJet[0], range_ptJet[1])\n",
    "# create an empty ROOT histogram for the response matrix\n",
    "dfRespJet = dfreco_assoc.loc[:, [\"pt_gen_jet\", \"pt_jet\"]] # create a data frame with only selected columns\n",
    "fill_hist(hisRespJet, dfRespJet) # fill the histogram with the data frame entries\n",
    "hisRespJet.SetDirectory(0) # needed to avoid changing the histogram type to PyROOT_NoneType\n",
    "fileRootOut = ROOT.TFile(\"histos.root\", \"recreate\")\n",
    "fileRootOut.cd()\n",
    "hisRespJet.Write()\n",
    "fileRootOut.Close()"
   ]
  },
  {
   "cell_type": "code",
   "execution_count": null,
   "metadata": {},
   "outputs": [],
   "source": []
  },
  {
   "cell_type": "code",
   "execution_count": 20,
   "metadata": {},
   "outputs": [
    {
     "name": "stderr",
     "output_type": "stream",
     "text": [
      "/home/vkucera/.virtualenvs/ml/lib/python3.6/site-packages/pandas/core/indexing.py:362: SettingWithCopyWarning: \n",
      "A value is trying to be set on a copy of a slice from a DataFrame.\n",
      "Try using .loc[row_indexer,col_indexer] = value instead\n",
      "\n",
      "See the caveats in the documentation: http://pandas.pydata.org/pandas-docs/stable/user_guide/indexing.html#returning-a-view-versus-a-copy\n",
      "  self.obj[key] = _infer_fill_value(value)\n",
      "/home/vkucera/.virtualenvs/ml/lib/python3.6/site-packages/pandas/core/indexing.py:480: SettingWithCopyWarning: \n",
      "A value is trying to be set on a copy of a slice from a DataFrame.\n",
      "Try using .loc[row_indexer,col_indexer] = value instead\n",
      "\n",
      "See the caveats in the documentation: http://pandas.pydata.org/pandas-docs/stable/user_guide/indexing.html#returning-a-view-versus-a-copy\n",
      "  self.obj[item] = s\n"
     ]
    },
    {
     "data": {
      "text/plain": [
       "Text(0, 0.5, 'gen. z')"
      ]
     },
     "execution_count": 20,
     "metadata": {},
     "output_type": "execute_result"
    },
    {
     "data": {
      "image/png": "[encoded data removed]",
      "text/plain": [
       "<Figure size 432x288 with 1 Axes>"
      ]
     },
     "metadata": {
      "needs_background": "light"
     },
     "output_type": "display_data"
    }
   ],
   "source": [
    "dfreco_assoc.loc[:, \"zL\"] = dfreco_assoc[\"pt_cand\"] / dfreco_assoc[\"pt_jet\"] # If you type just dfreco_assoc[\"zL\"], it will raise SettingWithCopyWarning.\n",
    "dfreco_assoc.loc[:, \"zL_gen\"] = dfreco_assoc[\"pt_gen_cand\"] / dfreco_assoc[\"pt_gen_jet\"]\n",
    "dfRespZ = dfreco_assoc.loc[:, [\"zL\", \"zL_gen\"]]\n",
    "plt.hist2d(dfRespZ[\"zL\"], dfRespZ[\"zL_gen\"], norm = colors.LogNorm(), bins = [Nbins_z, Nbins_z], range = [range_z, range_z])\n",
    "plt.title(\"Response matrix for z\")\n",
    "plt.xlabel(\"rec. z\")\n",
    "plt.ylabel(\"gen. z\")\n",
    "#print(len(dfRespZ))"
   ]
  },
  {
   "cell_type": "code",
   "execution_count": 21,
   "metadata": {},
   "outputs": [],
   "source": [
    "binsPtJetMin = [5, 10, 20, 40] # list of minimum jet pt values\n",
    "listRespZ = [dfRespZ[dfreco_assoc[\"pt_jet\"] > jetpt] for jetpt in binsPtJetMin] # get a list of data frames for jet pt higher than a given threshold from the list\n",
    "fileRootOut = ROOT.TFile(\"histos.root\", \"update\")\n",
    "for i in range(len(binsPtJetMin)):\n",
    "    hisRespZ = ROOT.TH2D(\"hisRespZ_ptjet{}\".format(binsPtJetMin[i]), \\\n",
    "                         \"Response matrix for #it{{z}}^{{ch}}, #it{{p}}_{{T}}^{{jet, ch, rec.}} > {} GeV/#it{{c}};#it{{z}}^{{ch, rec.}};#it{{z}}^{{ch, gen.}}\".format(binsPtJetMin[i]), \\\n",
    "                         Nbins_z, range_z[0], range_z[1], Nbins_z, range_z[0], range_z[1])\n",
    "    fill_hist(hisRespZ, listRespZ[i])\n",
    "    hisRespZ.SetDirectory(0)\n",
    "    fileRootOut.cd()\n",
    "    hisRespZ.Write()\n",
    "fileRootOut.Close()"
   ]
  },
  {
   "cell_type": "code",
   "execution_count": 22,
   "metadata": {},
   "outputs": [],
   "source": [
    "binsZMin = [0, 0.2, 0.4, 0.6, 0.8] # list of minimum z values\n",
    "listRespJet = [dfRespJet[dfreco_assoc[\"zL\"] > zMin] for zMin in binsZMin] # get a list of data frames for z higher than a given threshold from the list\n",
    "fileRootOut = ROOT.TFile(\"histos.root\", \"update\")\n",
    "for i in range(len(binsZMin)):\n",
    "    hisRespJet = ROOT.TH2D(\"hisRespJet_zmin{}\".format(binsZMin[i]), \\\n",
    "                         \"Response matrix for #it{{p}}_{{T}}^{{jet, ch}}, #it{{z}}^{{ch, rec.}} > {};#it{{p}}_{{T}}^{{jet, ch, rec.}} (GeV/#it{{c}});#it{{p}}_{{T}}^{{jet, ch, gen.}} (GeV/#it{{c}})\".format(binsZMin[i]), \\\n",
    "                         Nbins_ptJet, range_ptJet[0], range_ptJet[1], Nbins_ptJet, range_ptJet[0], range_ptJet[1])\n",
    "    fill_hist(hisRespJet, listRespJet[i])\n",
    "    hisRespJet.SetDirectory(0)\n",
    "    fileRootOut.cd()\n",
    "    hisRespJet.Write()\n",
    "fileRootOut.Close()"
   ]
  },
  {
   "cell_type": "code",
   "execution_count": 23,
   "metadata": {},
   "outputs": [],
   "source": [
    "dfPtDPtJet = dfreco_assoc.loc[:, [\"pt_gen_cand\", \"pt_gen_jet\"]]\n",
    "hisPtDPtJet = ROOT.TH2D(\"hisPtDPtJet\", \\\n",
    "                       \"Dummy simulated ptD vs ptJet for the feed-down;#it{p}_{T}^{D, gen.};#it{p}_{T}^{jet, ch, gen.}\", \\\n",
    "                       Nbins_ptD, range_ptD[0], range_ptD[1], Nbins_ptJet, range_ptJet[0], range_ptJet[1])\n",
    "# create an empty ROOT histogram for the response matrix\n",
    "fill_hist(hisPtDPtJet, dfPtDPtJet) # fill the histogram with the data frame entries\n",
    "hisPtDPtJet.SetDirectory(0) # needed to avoid changing the histogram type to PyROOT_NoneType\n",
    "fileRootOut = ROOT.TFile(\"histos.root\", \"update\")\n",
    "fileRootOut.cd()\n",
    "hisPtDPtJet.Write()\n",
    "fileRootOut.Close()"
   ]
  }
 ],
 "metadata": {
  "kernelspec": {
   "display_name": "Python 3",
   "language": "python",
   "name": "python3"
  },
  "language_info": {
   "codemirror_mode": {
    "name": "ipython",
    "version": 3
   },
   "file_extension": ".py",
   "mimetype": "text/x-python",
   "name": "python",
   "nbconvert_exporter": "python",
   "pygments_lexer": "ipython3",
   "version": "3.6.7"
  }
 },
 "nbformat": 4,
 "nbformat_minor": 4
}
