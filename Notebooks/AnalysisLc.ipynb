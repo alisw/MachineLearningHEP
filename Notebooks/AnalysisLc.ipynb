{
 "cells": [
  {
   "cell_type": "raw",
   "metadata": {},
   "source": [
    "https://www.tutorialspoint.com/python_pandas/python_pandas_dataframe.htm\n",
    "\n",
    "************************IMPORTANT ************************: \n",
    "Copy this file https://www.dropbox.com/s/5ad5hg41rk3qcrn/AnalysisResultsRecoLctopK0sMerged.pkl?dl=0\n",
    "in the current directory before starting! "
   ]
  },
  {
   "cell_type": "code",
   "execution_count": 4,
   "metadata": {},
   "outputs": [],
   "source": [
    "import pandas as pd \n",
    "import pickle\n",
    "import matplotlib.pyplot as plt\n",
    "\n",
    "dfreco = pickle.load(open(\"AnalysisResultsRecoLctopK0sMerged.pkl\",\"rb\"))"
   ]
  },
  {
   "cell_type": "code",
   "execution_count": 5,
   "metadata": {},
   "outputs": [
    {
     "data": {
      "text/plain": [
       "Index(['V0Amult', 'armenteros_K0s', 'cand_type', 'centrality', 'cos_p_K0s',\n",
       "       'cos_t_star', 'ctau_K0s', 'd_len_K0s', 'dca_K0s', 'eta_prong0',\n",
       "       'eta_prong1', 'eta_prong2', 'ev_id', 'imp_par_K0s', 'imp_par_prong0',\n",
       "       'imp_par_prong1', 'imp_par_prong2', 'inv_mass', 'inv_mass_K0s',\n",
       "       'is_ev_rej', 'n_tracklets', 'n_tracks', 'nsigTOF_Pi_0', 'nsigTOF_Pi_1',\n",
       "       'nsigTOF_Pi_2', 'nsigTOF_Pr_0', 'nsigTOF_Pr_1', 'nsigTOF_Pr_2',\n",
       "       'nsigTPC_Pi_1', 'nsigTPC_Pi_2', 'nsigTPC_Pr_0', 'nsigTPC_Pr_1',\n",
       "       'nsigTPC_Pr_2', 'pt_K0s', 'pt_cand', 'pt_prong0', 'pt_prong1',\n",
       "       'pt_prong2', 'run_number', 'signd0', 'y_cand', 'z_vtx_gen',\n",
       "       'z_vtx_reco'],\n",
       "      dtype='object')"
      ]
     },
     "execution_count": 5,
     "metadata": {},
     "output_type": "execute_result"
    }
   ],
   "source": [
    "# Inspect the names of the variables in the dataframe\n",
    "dfreco.columns"
   ]
  },
  {
   "cell_type": "code",
   "execution_count": 6,
   "metadata": {},
   "outputs": [],
   "source": [
    "#show the first 10 lines of a dataframe"
   ]
  },
  {
   "cell_type": "code",
   "execution_count": 7,
   "metadata": {},
   "outputs": [],
   "source": [
    "#make a selection on the pt_K0s of the Lc, pt_K0s>3 "
   ]
  },
  {
   "cell_type": "code",
   "execution_count": 8,
   "metadata": {},
   "outputs": [],
   "source": [
    "#make a selection on both pt_K0s and |nsigTOF_Pr_0|<2"
   ]
  },
  {
   "cell_type": "code",
   "execution_count": 9,
   "metadata": {},
   "outputs": [],
   "source": [
    "# plot the distribution of pt_K0s and nsigTOF_Pr_0 in two different canvas\n",
    "# use plt.hist() function\n",
    "#learn how to add legend, change the binning, make a density distribution"
   ]
  },
  {
   "cell_type": "code",
   "execution_count": 10,
   "metadata": {},
   "outputs": [],
   "source": [
    "# plot a scatter plot of nsigTOF_Pr_0 vs nsigTPC_Pr_0"
   ]
  }
 ],
 "metadata": {
  "kernelspec": {
   "display_name": "Python 3",
   "language": "python",
   "name": "python3"
  },
  "language_info": {
   "codemirror_mode": {
    "name": "ipython",
    "version": 3
   },
   "file_extension": ".py",
   "mimetype": "text/x-python",
   "name": "python",
   "nbconvert_exporter": "python",
   "pygments_lexer": "ipython3",
   "version": "3.6.6"
  }
 },
 "nbformat": 4,
 "nbformat_minor": 2
}
